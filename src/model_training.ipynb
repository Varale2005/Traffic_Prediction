{
 "cells": [
  {
   "cell_type": "code",
   "execution_count": 46,
   "id": "4f63272a",
   "metadata": {},
   "outputs": [],
   "source": [
    "import numpy as np\n",
    "import tensorflow as tf\n",
    "from tensorflow import keras\n",
    "from tensorflow.keras import layers\n",
    "from tensorflow.keras.optimizers import Adam \n",
    "import joblib"
   ]
  },
  {
   "cell_type": "code",
   "execution_count": 55,
   "id": "a60588d7",
   "metadata": {},
   "outputs": [],
   "source": [
    "data = np.load(\"traffic_data.npz\")\n"
   ]
  },
  {
   "cell_type": "code",
   "execution_count": 56,
   "id": "3f999650",
   "metadata": {},
   "outputs": [],
   "source": [
    "X_train, X_test = data['X_train'], data['X_test']\n",
    "y_train, y_test = data['y_train'], data['y_test']"
   ]
  },
  {
   "cell_type": "code",
   "execution_count": 57,
   "id": "8c347728",
   "metadata": {},
   "outputs": [],
   "source": [
    "model = keras.Sequential([\n",
    "    layers.Dense(64, activation='relu', input_shape=(X_train.shape[1],)),\n",
    "    layers.Dense(32, activation='relu'),\n",
    "    layers.Dense(1)  # Output: Predicted vehicle count\n",
    "])"
   ]
  },
  {
   "cell_type": "code",
   "execution_count": 58,
   "id": "e6771a9d",
   "metadata": {},
   "outputs": [],
   "source": [
    "model.compile(optimizer=Adam(), loss='mse', metrics=['mae'])\n"
   ]
  },
  {
   "cell_type": "code",
   "execution_count": 59,
   "id": "71366e72",
   "metadata": {},
   "outputs": [
    {
     "name": "stdout",
     "output_type": "stream",
     "text": [
      "Epoch 1/50\n",
      "\u001b[1m2406/2406\u001b[0m \u001b[32m━━━━━━━━━━━━━━━━━━━━\u001b[0m\u001b[37m\u001b[0m \u001b[1m5s\u001b[0m 2ms/step - loss: 232.9227 - mae: 10.1770 - val_loss: 157.1504 - val_mae: 8.6932\n",
      "Epoch 2/50\n",
      "\u001b[1m2406/2406\u001b[0m \u001b[32m━━━━━━━━━━━━━━━━━━━━\u001b[0m\u001b[37m\u001b[0m \u001b[1m4s\u001b[0m 2ms/step - loss: 164.2451 - mae: 8.5992 - val_loss: 152.9237 - val_mae: 8.2701\n",
      "Epoch 3/50\n",
      "\u001b[1m2406/2406\u001b[0m \u001b[32m━━━━━━━━━━━━━━━━━━━━\u001b[0m\u001b[37m\u001b[0m \u001b[1m11s\u001b[0m 5ms/step - loss: 161.9816 - mae: 8.5033 - val_loss: 150.1521 - val_mae: 8.2108\n",
      "Epoch 4/50\n",
      "\u001b[1m2406/2406\u001b[0m \u001b[32m━━━━━━━━━━━━━━━━━━━━\u001b[0m\u001b[37m\u001b[0m \u001b[1m12s\u001b[0m 5ms/step - loss: 159.6092 - mae: 8.4415 - val_loss: 150.0467 - val_mae: 8.1426\n",
      "Epoch 5/50\n",
      "\u001b[1m2406/2406\u001b[0m \u001b[32m━━━━━━━━━━━━━━━━━━━━\u001b[0m\u001b[37m\u001b[0m \u001b[1m4s\u001b[0m 2ms/step - loss: 158.1160 - mae: 8.4034 - val_loss: 147.8605 - val_mae: 8.3239\n",
      "Epoch 6/50\n",
      "\u001b[1m2406/2406\u001b[0m \u001b[32m━━━━━━━━━━━━━━━━━━━━\u001b[0m\u001b[37m\u001b[0m \u001b[1m5s\u001b[0m 2ms/step - loss: 156.2599 - mae: 8.3672 - val_loss: 144.9616 - val_mae: 8.2374\n",
      "Epoch 7/50\n",
      "\u001b[1m2406/2406\u001b[0m \u001b[32m━━━━━━━━━━━━━━━━━━━━\u001b[0m\u001b[37m\u001b[0m \u001b[1m5s\u001b[0m 2ms/step - loss: 154.1495 - mae: 8.3262 - val_loss: 144.0415 - val_mae: 8.0339\n",
      "Epoch 8/50\n",
      "\u001b[1m2406/2406\u001b[0m \u001b[32m━━━━━━━━━━━━━━━━━━━━\u001b[0m\u001b[37m\u001b[0m \u001b[1m5s\u001b[0m 2ms/step - loss: 152.5286 - mae: 8.2976 - val_loss: 145.4557 - val_mae: 8.4834\n",
      "Epoch 9/50\n",
      "\u001b[1m2406/2406\u001b[0m \u001b[32m━━━━━━━━━━━━━━━━━━━━\u001b[0m\u001b[37m\u001b[0m \u001b[1m5s\u001b[0m 2ms/step - loss: 151.4865 - mae: 8.2860 - val_loss: 140.2065 - val_mae: 7.9884\n",
      "Epoch 10/50\n",
      "\u001b[1m2406/2406\u001b[0m \u001b[32m━━━━━━━━━━━━━━━━━━━━\u001b[0m\u001b[37m\u001b[0m \u001b[1m4s\u001b[0m 2ms/step - loss: 150.0982 - mae: 8.2503 - val_loss: 140.0767 - val_mae: 8.1417\n",
      "Epoch 11/50\n",
      "\u001b[1m2406/2406\u001b[0m \u001b[32m━━━━━━━━━━━━━━━━━━━━\u001b[0m\u001b[37m\u001b[0m \u001b[1m5s\u001b[0m 2ms/step - loss: 148.9248 - mae: 8.2233 - val_loss: 138.2168 - val_mae: 8.0124\n",
      "Epoch 12/50\n",
      "\u001b[1m2406/2406\u001b[0m \u001b[32m━━━━━━━━━━━━━━━━━━━━\u001b[0m\u001b[37m\u001b[0m \u001b[1m5s\u001b[0m 2ms/step - loss: 147.7196 - mae: 8.1991 - val_loss: 139.6118 - val_mae: 8.1529\n",
      "Epoch 13/50\n",
      "\u001b[1m2406/2406\u001b[0m \u001b[32m━━━━━━━━━━━━━━━━━━━━\u001b[0m\u001b[37m\u001b[0m \u001b[1m4s\u001b[0m 2ms/step - loss: 146.4161 - mae: 8.1674 - val_loss: 136.4653 - val_mae: 7.9227\n",
      "Epoch 14/50\n",
      "\u001b[1m2406/2406\u001b[0m \u001b[32m━━━━━━━━━━━━━━━━━━━━\u001b[0m\u001b[37m\u001b[0m \u001b[1m5s\u001b[0m 2ms/step - loss: 144.7176 - mae: 8.1247 - val_loss: 134.3417 - val_mae: 7.8740\n",
      "Epoch 15/50\n",
      "\u001b[1m2406/2406\u001b[0m \u001b[32m━━━━━━━━━━━━━━━━━━━━\u001b[0m\u001b[37m\u001b[0m \u001b[1m5s\u001b[0m 2ms/step - loss: 141.7262 - mae: 8.0610 - val_loss: 130.7533 - val_mae: 7.7743\n",
      "Epoch 16/50\n",
      "\u001b[1m2406/2406\u001b[0m \u001b[32m━━━━━━━━━━━━━━━━━━━━\u001b[0m\u001b[37m\u001b[0m \u001b[1m5s\u001b[0m 2ms/step - loss: 138.7440 - mae: 8.0056 - val_loss: 129.3163 - val_mae: 7.7482\n",
      "Epoch 17/50\n",
      "\u001b[1m2406/2406\u001b[0m \u001b[32m━━━━━━━━━━━━━━━━━━━━\u001b[0m\u001b[37m\u001b[0m \u001b[1m4s\u001b[0m 2ms/step - loss: 135.8554 - mae: 7.9559 - val_loss: 125.6788 - val_mae: 7.6867\n",
      "Epoch 18/50\n",
      "\u001b[1m2406/2406\u001b[0m \u001b[32m━━━━━━━━━━━━━━━━━━━━\u001b[0m\u001b[37m\u001b[0m \u001b[1m4s\u001b[0m 2ms/step - loss: 133.5267 - mae: 7.9164 - val_loss: 123.9050 - val_mae: 7.6613\n",
      "Epoch 19/50\n",
      "\u001b[1m2406/2406\u001b[0m \u001b[32m━━━━━━━━━━━━━━━━━━━━\u001b[0m\u001b[37m\u001b[0m \u001b[1m5s\u001b[0m 2ms/step - loss: 132.2551 - mae: 7.8985 - val_loss: 124.7702 - val_mae: 7.8771\n",
      "Epoch 20/50\n",
      "\u001b[1m2406/2406\u001b[0m \u001b[32m━━━━━━━━━━━━━━━━━━━━\u001b[0m\u001b[37m\u001b[0m \u001b[1m5s\u001b[0m 2ms/step - loss: 130.9076 - mae: 7.8754 - val_loss: 122.9035 - val_mae: 7.6183\n",
      "Epoch 21/50\n",
      "\u001b[1m2406/2406\u001b[0m \u001b[32m━━━━━━━━━━━━━━━━━━━━\u001b[0m\u001b[37m\u001b[0m \u001b[1m4s\u001b[0m 2ms/step - loss: 130.3826 - mae: 7.8679 - val_loss: 123.8399 - val_mae: 7.7558\n",
      "Epoch 22/50\n",
      "\u001b[1m2406/2406\u001b[0m \u001b[32m━━━━━━━━━━━━━━━━━━━━\u001b[0m\u001b[37m\u001b[0m \u001b[1m4s\u001b[0m 2ms/step - loss: 129.9908 - mae: 7.8612 - val_loss: 125.0308 - val_mae: 7.7339\n",
      "Epoch 23/50\n",
      "\u001b[1m2406/2406\u001b[0m \u001b[32m━━━━━━━━━━━━━━━━━━━━\u001b[0m\u001b[37m\u001b[0m \u001b[1m4s\u001b[0m 2ms/step - loss: 129.2454 - mae: 7.8495 - val_loss: 122.4830 - val_mae: 7.5804\n",
      "Epoch 24/50\n",
      "\u001b[1m2406/2406\u001b[0m \u001b[32m━━━━━━━━━━━━━━━━━━━━\u001b[0m\u001b[37m\u001b[0m \u001b[1m4s\u001b[0m 2ms/step - loss: 129.1143 - mae: 7.8431 - val_loss: 124.6915 - val_mae: 7.7712\n",
      "Epoch 25/50\n",
      "\u001b[1m2406/2406\u001b[0m \u001b[32m━━━━━━━━━━━━━━━━━━━━\u001b[0m\u001b[37m\u001b[0m \u001b[1m4s\u001b[0m 2ms/step - loss: 129.0080 - mae: 7.8405 - val_loss: 121.1151 - val_mae: 7.6030\n",
      "Epoch 26/50\n",
      "\u001b[1m2406/2406\u001b[0m \u001b[32m━━━━━━━━━━━━━━━━━━━━\u001b[0m\u001b[37m\u001b[0m \u001b[1m4s\u001b[0m 2ms/step - loss: 128.5749 - mae: 7.8367 - val_loss: 122.1700 - val_mae: 7.6374\n",
      "Epoch 27/50\n",
      "\u001b[1m2406/2406\u001b[0m \u001b[32m━━━━━━━━━━━━━━━━━━━━\u001b[0m\u001b[37m\u001b[0m \u001b[1m5s\u001b[0m 2ms/step - loss: 128.8849 - mae: 7.8424 - val_loss: 121.4411 - val_mae: 7.7261\n",
      "Epoch 28/50\n",
      "\u001b[1m2406/2406\u001b[0m \u001b[32m━━━━━━━━━━━━━━━━━━━━\u001b[0m\u001b[37m\u001b[0m \u001b[1m5s\u001b[0m 2ms/step - loss: 128.3543 - mae: 7.8333 - val_loss: 122.9864 - val_mae: 7.6968\n",
      "Epoch 29/50\n",
      "\u001b[1m2406/2406\u001b[0m \u001b[32m━━━━━━━━━━━━━━━━━━━━\u001b[0m\u001b[37m\u001b[0m \u001b[1m4s\u001b[0m 2ms/step - loss: 128.3452 - mae: 7.8315 - val_loss: 121.5861 - val_mae: 7.7216\n",
      "Epoch 30/50\n",
      "\u001b[1m2406/2406\u001b[0m \u001b[32m━━━━━━━━━━━━━━━━━━━━\u001b[0m\u001b[37m\u001b[0m \u001b[1m4s\u001b[0m 2ms/step - loss: 128.1538 - mae: 7.8248 - val_loss: 122.3611 - val_mae: 7.6229\n",
      "Epoch 31/50\n",
      "\u001b[1m2406/2406\u001b[0m \u001b[32m━━━━━━━━━━━━━━━━━━━━\u001b[0m\u001b[37m\u001b[0m \u001b[1m4s\u001b[0m 2ms/step - loss: 127.8532 - mae: 7.8095 - val_loss: 124.4920 - val_mae: 7.6437\n",
      "Epoch 32/50\n",
      "\u001b[1m2406/2406\u001b[0m \u001b[32m━━━━━━━━━━━━━━━━━━━━\u001b[0m\u001b[37m\u001b[0m \u001b[1m5s\u001b[0m 2ms/step - loss: 127.8010 - mae: 7.8078 - val_loss: 121.6037 - val_mae: 7.6836\n",
      "Epoch 33/50\n",
      "\u001b[1m2406/2406\u001b[0m \u001b[32m━━━━━━━━━━━━━━━━━━━━\u001b[0m\u001b[37m\u001b[0m \u001b[1m5s\u001b[0m 2ms/step - loss: 127.7165 - mae: 7.8123 - val_loss: 120.9947 - val_mae: 7.6847\n",
      "Epoch 34/50\n",
      "\u001b[1m2406/2406\u001b[0m \u001b[32m━━━━━━━━━━━━━━━━━━━━\u001b[0m\u001b[37m\u001b[0m \u001b[1m5s\u001b[0m 2ms/step - loss: 127.8598 - mae: 7.8183 - val_loss: 121.1919 - val_mae: 7.5533\n",
      "Epoch 35/50\n",
      "\u001b[1m2406/2406\u001b[0m \u001b[32m━━━━━━━━━━━━━━━━━━━━\u001b[0m\u001b[37m\u001b[0m \u001b[1m4s\u001b[0m 2ms/step - loss: 127.6357 - mae: 7.8105 - val_loss: 122.4085 - val_mae: 7.6903\n",
      "Epoch 36/50\n",
      "\u001b[1m2406/2406\u001b[0m \u001b[32m━━━━━━━━━━━━━━━━━━━━\u001b[0m\u001b[37m\u001b[0m \u001b[1m4s\u001b[0m 2ms/step - loss: 127.5057 - mae: 7.8066 - val_loss: 120.3123 - val_mae: 7.5891\n",
      "Epoch 37/50\n",
      "\u001b[1m2406/2406\u001b[0m \u001b[32m━━━━━━━━━━━━━━━━━━━━\u001b[0m\u001b[37m\u001b[0m \u001b[1m5s\u001b[0m 2ms/step - loss: 127.1515 - mae: 7.7991 - val_loss: 121.5074 - val_mae: 7.6486\n",
      "Epoch 38/50\n",
      "\u001b[1m2406/2406\u001b[0m \u001b[32m━━━━━━━━━━━━━━━━━━━━\u001b[0m\u001b[37m\u001b[0m \u001b[1m5s\u001b[0m 2ms/step - loss: 127.3803 - mae: 7.7986 - val_loss: 121.0201 - val_mae: 7.6313\n",
      "Epoch 39/50\n",
      "\u001b[1m2406/2406\u001b[0m \u001b[32m━━━━━━━━━━━━━━━━━━━━\u001b[0m\u001b[37m\u001b[0m \u001b[1m5s\u001b[0m 2ms/step - loss: 127.2513 - mae: 7.7940 - val_loss: 121.4688 - val_mae: 7.6154\n",
      "Epoch 40/50\n",
      "\u001b[1m2406/2406\u001b[0m \u001b[32m━━━━━━━━━━━━━━━━━━━━\u001b[0m\u001b[37m\u001b[0m \u001b[1m5s\u001b[0m 2ms/step - loss: 127.3413 - mae: 7.8023 - val_loss: 120.7387 - val_mae: 7.6339\n",
      "Epoch 41/50\n",
      "\u001b[1m2406/2406\u001b[0m \u001b[32m━━━━━━━━━━━━━━━━━━━━\u001b[0m\u001b[37m\u001b[0m \u001b[1m5s\u001b[0m 2ms/step - loss: 127.3061 - mae: 7.7953 - val_loss: 120.7903 - val_mae: 7.5976\n",
      "Epoch 42/50\n",
      "\u001b[1m2406/2406\u001b[0m \u001b[32m━━━━━━━━━━━━━━━━━━━━\u001b[0m\u001b[37m\u001b[0m \u001b[1m5s\u001b[0m 2ms/step - loss: 127.1090 - mae: 7.7892 - val_loss: 121.0736 - val_mae: 7.5584\n",
      "Epoch 43/50\n",
      "\u001b[1m2406/2406\u001b[0m \u001b[32m━━━━━━━━━━━━━━━━━━━━\u001b[0m\u001b[37m\u001b[0m \u001b[1m5s\u001b[0m 2ms/step - loss: 127.2298 - mae: 7.8006 - val_loss: 120.0762 - val_mae: 7.5655\n",
      "Epoch 44/50\n",
      "\u001b[1m2406/2406\u001b[0m \u001b[32m━━━━━━━━━━━━━━━━━━━━\u001b[0m\u001b[37m\u001b[0m \u001b[1m10s\u001b[0m 2ms/step - loss: 127.0278 - mae: 7.7898 - val_loss: 119.8416 - val_mae: 7.5463\n",
      "Epoch 45/50\n",
      "\u001b[1m2406/2406\u001b[0m \u001b[32m━━━━━━━━━━━━━━━━━━━━\u001b[0m\u001b[37m\u001b[0m \u001b[1m5s\u001b[0m 2ms/step - loss: 126.9124 - mae: 7.7872 - val_loss: 122.4894 - val_mae: 7.7091\n",
      "Epoch 46/50\n",
      "\u001b[1m2406/2406\u001b[0m \u001b[32m━━━━━━━━━━━━━━━━━━━━\u001b[0m\u001b[37m\u001b[0m \u001b[1m5s\u001b[0m 2ms/step - loss: 126.8639 - mae: 7.7854 - val_loss: 121.6296 - val_mae: 7.7208\n",
      "Epoch 47/50\n",
      "\u001b[1m2406/2406\u001b[0m \u001b[32m━━━━━━━━━━━━━━━━━━━━\u001b[0m\u001b[37m\u001b[0m \u001b[1m5s\u001b[0m 2ms/step - loss: 126.7976 - mae: 7.7875 - val_loss: 120.8838 - val_mae: 7.5965\n",
      "Epoch 48/50\n",
      "\u001b[1m2406/2406\u001b[0m \u001b[32m━━━━━━━━━━━━━━━━━━━━\u001b[0m\u001b[37m\u001b[0m \u001b[1m5s\u001b[0m 2ms/step - loss: 126.7194 - mae: 7.7787 - val_loss: 120.8517 - val_mae: 7.5476\n",
      "Epoch 49/50\n",
      "\u001b[1m2406/2406\u001b[0m \u001b[32m━━━━━━━━━━━━━━━━━━━━\u001b[0m\u001b[37m\u001b[0m \u001b[1m4s\u001b[0m 2ms/step - loss: 126.5661 - mae: 7.7741 - val_loss: 120.5702 - val_mae: 7.5642\n",
      "Epoch 50/50\n",
      "\u001b[1m2406/2406\u001b[0m \u001b[32m━━━━━━━━━━━━━━━━━━━━\u001b[0m\u001b[37m\u001b[0m \u001b[1m5s\u001b[0m 2ms/step - loss: 126.6675 - mae: 7.7714 - val_loss: 120.2664 - val_mae: 7.6139\n"
     ]
    }
   ],
   "source": [
    "history = model.fit(X_train, y_train, epochs=50, batch_size=16, validation_data=(X_test, y_test))\n"
   ]
  },
  {
   "cell_type": "code",
   "execution_count": 60,
   "id": "c12c56fa",
   "metadata": {},
   "outputs": [
    {
     "name": "stdout",
     "output_type": "stream",
     "text": [
      "\u001b[1m301/301\u001b[0m \u001b[32m━━━━━━━━━━━━━━━━━━━━\u001b[0m\u001b[37m\u001b[0m \u001b[1m1s\u001b[0m 2ms/step - loss: 120.2665 - mae: 7.6139\n"
     ]
    }
   ],
   "source": [
    "loss, mae = model.evaluate(X_test, y_test)"
   ]
  },
  {
   "cell_type": "code",
   "execution_count": 61,
   "id": "e815bcc6",
   "metadata": {},
   "outputs": [],
   "source": [
    "model.save('traffic_model.keras')\n"
   ]
  },
  {
   "cell_type": "code",
   "execution_count": null,
   "id": "9d9efa5b",
   "metadata": {},
   "outputs": [],
   "source": [
    "\n",
    "\n"
   ]
  }
 ],
 "metadata": {
  "kernelspec": {
   "display_name": "traffic_cdl",
   "language": "python",
   "name": "python3"
  },
  "language_info": {
   "codemirror_mode": {
    "name": "ipython",
    "version": 3
   },
   "file_extension": ".py",
   "mimetype": "text/x-python",
   "name": "python",
   "nbconvert_exporter": "python",
   "pygments_lexer": "ipython3",
   "version": "3.10.18"
  }
 },
 "nbformat": 4,
 "nbformat_minor": 5
}
